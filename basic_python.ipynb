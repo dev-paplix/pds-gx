{
 "cells": [
  {
   "cell_type": "markdown",
   "id": "0a2a0c1c-8890-498d-a7fc-73e23fab1912",
   "metadata": {},
   "source": [
    "## Lesson 1\n",
    "# This is the basic Python Commands"
   ]
  },
  {
   "cell_type": "code",
   "execution_count": 2,
   "id": "acd6a982-fc18-407f-882c-41433aff76f6",
   "metadata": {},
   "outputs": [
    {
     "name": "stdout",
     "output_type": "stream",
     "text": [
      "8.5\n"
     ]
    }
   ],
   "source": [
    "# basic python arithmetic\n",
    "a = 5.5\n",
    "b = 3\n",
    "c = a + b\n",
    "print(c)"
   ]
  },
  {
   "cell_type": "code",
   "execution_count": 8,
   "id": "1022948a-a68b-43de-9c2d-cdb08badae1a",
   "metadata": {},
   "outputs": [
    {
     "name": "stdout",
     "output_type": "stream",
     "text": [
      "Hello to you guys\n",
      "Hello from the single qoute\n",
      "Hello to you guys Hello from the single qoute\n"
     ]
    }
   ],
   "source": [
    "# basic strings\n",
    "\n",
    "a1 = \"Hello to you guys\"\n",
    "a2 = 'Hello from the single qoute'\n",
    "print(a1)\n",
    "print(a2)\n",
    "print(a1+\" \"+a2)"
   ]
  },
  {
   "cell_type": "code",
   "execution_count": 9,
   "id": "d29dac21-084a-4137-8499-41575fbf4185",
   "metadata": {},
   "outputs": [
    {
     "name": "stdout",
     "output_type": "stream",
     "text": [
      "5.5 3\n"
     ]
    }
   ],
   "source": [
    "# Numbers as string\n",
    "\n",
    "b1 = \"5.5\"\n",
    "b2 = \"3\"\n",
    "print(b1+\" \"+b2)"
   ]
  },
  {
   "cell_type": "code",
   "execution_count": 11,
   "id": "1bc47e87-b07e-4fdf-a696-3db58b1d20e2",
   "metadata": {},
   "outputs": [
    {
     "name": "stdout",
     "output_type": "stream",
     "text": [
      "8.5\n"
     ]
    }
   ],
   "source": [
    "c1 = 5.5\n",
    "c2 = 3\n",
    "c3 = c1+c2\n",
    "print(c3)"
   ]
  },
  {
   "cell_type": "code",
   "execution_count": 14,
   "id": "e4e95e76-3f76-4ba3-844d-e1c62d734255",
   "metadata": {},
   "outputs": [
    {
     "name": "stdout",
     "output_type": "stream",
     "text": [
      "b is greater than a\n"
     ]
    }
   ],
   "source": [
    "# Basic if and else statement\n",
    "\n",
    "a = 5\n",
    "b = 10\n",
    "if a>b:\n",
    "    print(\"a is greater than b\")\n",
    "else:\n",
    "    print(\"b is greater than a\")"
   ]
  },
  {
   "cell_type": "code",
   "execution_count": 18,
   "id": "b54625f2-9f28-49a2-8da7-7dd7e506e867",
   "metadata": {},
   "outputs": [
    {
     "name": "stdout",
     "output_type": "stream",
     "text": [
      "a is equal to b\n"
     ]
    }
   ],
   "source": [
    "# using elif\n",
    "\n",
    "a = 10\n",
    "b = 10\n",
    "if a > b:\n",
    "    print(\"a is greater than b\")\n",
    "elif a == b:\n",
    "    print(\"a is equal to b\")\n",
    "else:\n",
    "    print(\"b is greater than a\")"
   ]
  },
  {
   "cell_type": "code",
   "execution_count": 23,
   "id": "ac26bb9d-fa86-4544-b665-186df97d2685",
   "metadata": {},
   "outputs": [
    {
     "name": "stdout",
     "output_type": "stream",
     "text": [
      "b is greater than a\n"
     ]
    }
   ],
   "source": [
    "# using greater or less than and equal\n",
    "\n",
    "a = 15\n",
    "b = 10\n",
    "if a <= b:\n",
    "    print(\"a is less or equal to b\")\n",
    "else:\n",
    "    print(\"b is greater than a\")"
   ]
  },
  {
   "cell_type": "code",
   "execution_count": 27,
   "id": "f6affcd8-41d3-4eb6-aa55-dda3ad18f3e3",
   "metadata": {},
   "outputs": [
    {
     "name": "stdout",
     "output_type": "stream",
     "text": [
      "Condition met\n",
      "Condition is not met\n"
     ]
    }
   ],
   "source": [
    "# using and, or conditoons\n",
    "\n",
    "a = 10\n",
    "b = 15\n",
    "c = 20\n",
    "\n",
    "if a == b or c > b:\n",
    "    print(\"Condition met\")\n",
    "else:\n",
    "    print(\"Condition is not met\")\n",
    "\n",
    "if a == b and c > b:\n",
    "    print(\"Condition met\")\n",
    "else:\n",
    "    print(\"Condition is not met\")"
   ]
  },
  {
   "cell_type": "code",
   "execution_count": 30,
   "id": "1a7db7ba-0464-4664-a2bc-6bbd2327ced1",
   "metadata": {},
   "outputs": [
    {
     "name": "stdout",
     "output_type": "stream",
     "text": [
      "[100, 200, 500, 500, 600, 1000]\n"
     ]
    }
   ],
   "source": [
    "# Array with same size\n",
    "\n",
    "a = [100, 200, 500]\n",
    "b = [500, 600, 1000]\n",
    "c = a + b\n",
    "print(c)"
   ]
  },
  {
   "cell_type": "code",
   "execution_count": 31,
   "id": "adc292bd-33f6-47b6-8adc-7e1dd9de1446",
   "metadata": {},
   "outputs": [
    {
     "name": "stdout",
     "output_type": "stream",
     "text": [
      "[100, 200, 500, 600, 1000]\n"
     ]
    }
   ],
   "source": [
    "# Array with different size\n",
    "\n",
    "a = [100, 200]\n",
    "b = [500, 600, 1000]\n",
    "c = a + b\n",
    "print(c)"
   ]
  },
  {
   "cell_type": "code",
   "execution_count": 33,
   "id": "e528a4d9-67bc-479f-a7b1-677ae62b010f",
   "metadata": {},
   "outputs": [
    {
     "name": "stdout",
     "output_type": "stream",
     "text": [
      "0\n",
      "1\n",
      "2\n",
      "3\n",
      "4\n"
     ]
    }
   ],
   "source": [
    "# Basic for loop\n",
    "\n",
    "for i in range(5):\n",
    "    print(i)\n",
    "    "
   ]
  },
  {
   "cell_type": "code",
   "execution_count": 36,
   "id": "3af8cc7b-db81-4b76-bad8-ad97fe17ca17",
   "metadata": {},
   "outputs": [
    {
     "name": "stdout",
     "output_type": "stream",
     "text": [
      "0\n",
      "0.5\n",
      "1.0\n",
      "1.5\n",
      "2.0\n",
      "2.5\n",
      "3.0\n",
      "3.5\n",
      "4.0\n",
      "4.5\n"
     ]
    }
   ],
   "source": [
    "# While loop\n",
    "count = 0\n",
    "while count<5:\n",
    "    print(count)\n",
    "    count+=0.5"
   ]
  },
  {
   "cell_type": "code",
   "execution_count": 42,
   "id": "7f14f4a4-472e-4727-8a96-258d3c2f88fc",
   "metadata": {},
   "outputs": [
    {
     "name": "stdout",
     "output_type": "stream",
     "text": [
      "['Lou', 'Lee', 'Ahnuf']\n",
      "======================================\n",
      "Lou\n",
      "Lee\n",
      "Ahnuf\n",
      "======================================\n",
      "Ahnuf\n",
      "======================================\n",
      "['Lou', 'Lee', 'Ahnuf', 'Hafiz']\n"
     ]
    }
   ],
   "source": [
    "# Basic array with append\n",
    "\n",
    "names = [\"Lou\", \"Lee\", \"Ahnuf\"]\n",
    "\n",
    "# Print everyting\n",
    "\n",
    "print(names)\n",
    "print(\"======================================\")\n",
    "\n",
    "#print one by one\n",
    "\n",
    "for name in names:\n",
    "    print(name)\n",
    "print(\"======================================\")\n",
    "\n",
    "# Extracting data from array\n",
    "\n",
    "print(names[2])\n",
    "\n",
    "print(\"======================================\")\n",
    "\n",
    "#Appending new data\n",
    "names.append(\"Hafiz\")\n",
    "print(names)"
   ]
  },
  {
   "cell_type": "code",
   "execution_count": 46,
   "id": "8b13ee26-4db1-489f-bf14-d1bb78a94174",
   "metadata": {},
   "outputs": [
    {
     "name": "stdout",
     "output_type": "stream",
     "text": [
      "[['Lou', 'Lee', 'Sam'], ['Paul', 'Henry', 'Hakim'], ['Ahnuf', 'Aiman', 'Abdul']]\n",
      "======================================\n",
      "Paul\n",
      "======================================\n",
      "Lou\n",
      "Lee\n",
      "Sam\n",
      "Paul\n",
      "Henry\n",
      "Hakim\n",
      "Ahnuf\n",
      "Aiman\n",
      "Abdul\n"
     ]
    }
   ],
   "source": [
    "# Two dimentional arrays\n",
    "\n",
    "names = [\n",
    "    [\"Lou\", \"Lee\", \"Sam\"],\n",
    "    [\"Paul\", \"Henry\", \"Hakim\"],\n",
    "    [\"Ahnuf\", \"Aiman\", \"Abdul\"]\n",
    "]\n",
    "\n",
    "# Printing everything\n",
    "print(names)\n",
    "print(\"======================================\")\n",
    "# Extracting data from matrix\n",
    "print(names[1][0])\n",
    "\n",
    "print(\"======================================\")\n",
    "\n",
    "# Printing one by one\n",
    "for i in names:\n",
    "    for name in i:\n",
    "        print(name)"
   ]
  },
  {
   "cell_type": "markdown",
   "id": "9f03967a-de9d-4496-ab27-3cb6aec015f4",
   "metadata": {},
   "source": [
    "# Excercise 1\n",
    "\n",
    "Please create Matrix with name of 9 different cars, then use if and else statement, if the car name is Porche it prints the car is expensive, if the care is Toyota, it print its median range car and if its is produa it prints its an affordable car"
   ]
  },
  {
   "cell_type": "code",
   "execution_count": 54,
   "id": "71fd922b-8324-4417-8f02-a3125e2af727",
   "metadata": {},
   "outputs": [
    {
     "name": "stdout",
     "output_type": "stream",
     "text": [
      "Porche is very expensive\n",
      "We dont know how expensive is BMW\n",
      "We dont know how expensive is Masserati\n",
      "Proton is affordable\n",
      "We dont know how expensive is Jaguar\n",
      "Produa is affordable\n",
      "We dont know how expensive is Nissan\n",
      "Toyota is median range\n",
      "We dont know how expensive is Ford\n",
      "We dont know how expensive is Tesla\n",
      "We dont know how expensive is BYD\n",
      "We dont know how expensive is Neo\n"
     ]
    }
   ],
   "source": [
    "cars = [\n",
    "    [\"Porche\", \"BMW\", \"Masserati\"],\n",
    "    [\"Proton\", \"Jaguar\", \"Produa\"],\n",
    "    [\"Nissan\", \"Toyota\", \"Ford\"],\n",
    "    [\"Tesla\", \"BYD\", \"Neo\"]\n",
    "]\n",
    "\n",
    "for i in cars:\n",
    "    for car in i:\n",
    "        if(car == \"Porche\"):\n",
    "            print(car, \"is very expensive\")\n",
    "        elif(car == \"Toyota\"):\n",
    "            print(car, \"is median range\")\n",
    "        elif(car == \"Produa\" or car == \"Proton\"):\n",
    "            print(car, \"is affordable\")\n",
    "        else:\n",
    "            print(\"We dont know how expensive is\", car)"
   ]
  },
  {
   "cell_type": "code",
   "execution_count": 57,
   "id": "d3365da2-8503-4ab2-a678-36eeb320cd9e",
   "metadata": {},
   "outputs": [
    {
     "name": "stdout",
     "output_type": "stream",
     "text": [
      "{'name': 'Lou', 'age': 38, 'car': 'mustang', 'OS': 'MAC'}\n",
      "======================================\n",
      "{'name': 'Ahnuf', 'age': 26, 'car': 'Myvi', 'OS': 'Windows'}\n",
      "======================================\n"
     ]
    }
   ],
   "source": [
    "# Dictionaries\n",
    "\n",
    "student = [{\"name\": \"Lou\", \"age\":38, \"car\": \"mustang\", \"OS\": \"MAC\"},\\\n",
    "           {\"name\": \"Ahnuf\", \"age\": 26, \"car\": \"Myvi\", \"OS\":\"Windows\"}]\n",
    "\n",
    "print(student[0])\n",
    "\n",
    "print(\"======================================\")\n",
    "\n",
    "print(student[1])\n",
    "\n",
    "print(\"======================================\")\n"
   ]
  },
  {
   "cell_type": "code",
   "execution_count": 58,
   "id": "b5a59eea-2be5-4155-bac4-765d3d6c45ea",
   "metadata": {},
   "outputs": [
    {
     "name": "stdout",
     "output_type": "stream",
     "text": [
      "He is looking  5  years old and he wants  IPAD\n",
      "He is looking  25  years old and he wants  Perfume\n",
      "He is looking  38  years old and he wants  Laptop\n"
     ]
    }
   ],
   "source": [
    "gift_ages = [\n",
    "    {\"age\": 5, \"gift\":\"IPAD\", \"DOB\":\"05/05/2020\"},\n",
    "    {\"age\": 25, \"gift\":\"Perfume\", \"DOB\":\"02/09/2000\"},\n",
    "    {\"age\": 38, \"gift\":\"Laptop\", \"DOB\":\"09/06/1987\"}\n",
    "]\n",
    "\n",
    "for i in gift_ages:\n",
    "    if(i[\"age\"]>=34):\n",
    "        print(\"He is looking \", i[\"age\"], \" years old and he wants \", i[\"gift\"])\n",
    "    elif(i[\"age\"]<=33 and i[\"age\"]>=15):\n",
    "        print(\"He is looking \", i[\"age\"], \" years old and he wants \", i[\"gift\"])\n",
    "    elif(i[\"age\"]>=1 and i[\"age\"]<=14):\n",
    "        print(\"He is looking \", i[\"age\"], \" years old and he wants \", i[\"gift\"])"
   ]
  },
  {
   "cell_type": "code",
   "execution_count": 63,
   "id": "aed06bcd-e569-4513-afd9-e2356a75944e",
   "metadata": {},
   "outputs": [
    {
     "name": "stdout",
     "output_type": "stream",
     "text": [
      "Hello from Python course, Lou!\n",
      "Hello from Python course, Ahnuf!\n",
      "Hello from Python course, Lee!\n"
     ]
    }
   ],
   "source": [
    "# Using definition\n",
    "\n",
    "def greet(name):\n",
    "    return f\"Hello from Python course, {name}!\"\n",
    "\n",
    "print(greet(\"Lou\"))\n",
    "print(greet(\"Ahnuf\"))\n",
    "print(greet(\"Lee\"))"
   ]
  },
  {
   "cell_type": "code",
   "execution_count": null,
   "id": "e60d2d50-5361-4dd6-a09f-dd585c21d2a3",
   "metadata": {},
   "outputs": [],
   "source": []
  }
 ],
 "metadata": {
  "kernelspec": {
   "display_name": "Python 3 (ipykernel)",
   "language": "python",
   "name": "python3"
  },
  "language_info": {
   "codemirror_mode": {
    "name": "ipython",
    "version": 3
   },
   "file_extension": ".py",
   "mimetype": "text/x-python",
   "name": "python",
   "nbconvert_exporter": "python",
   "pygments_lexer": "ipython3",
   "version": "3.12.7"
  }
 },
 "nbformat": 4,
 "nbformat_minor": 5
}
