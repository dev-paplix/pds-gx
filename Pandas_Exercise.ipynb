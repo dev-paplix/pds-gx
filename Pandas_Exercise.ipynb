{
 "cells": [
  {
   "cell_type": "markdown",
   "metadata": {},
   "source": [
    "# Pandas Practice Exercise: Analyzing Olympic Athlete Data and Coffee Sales\n",
    "\n",
    "Welcome to your practice exercise! This is designed to reinforce the Pandas concepts covered in the lesson, including creating DataFrames, exploring data (head/tail/info/describe), filtering, sorting, grouping, merging, adding columns, applying functions (lambda and custom def), handling dates, cleaning data, and basic aggregations.\n",
    "\n",
    "You'll work with two datasets:\n",
    "- **bios.csv**: Contains biographical data on Olympic athletes (e.g., name, born_date, born_city, height_cm, weight_kg, etc.).\n",
    "- **coffee.csv**: Contains simple coffee sales data (e.g., Day, Coffee Type, Units Sold).\n",
    "\n",
    "**Instructions**:\n",
    "- Use Pandas to complete each task.\n",
    "- Write your code in the provided code cells.\n",
    "- For each task, display the result (e.g., using `head()` or printing the output).\n",
    "- If a task involves creating or modifying a DataFrame, make a copy of the original to avoid overwriting data.\n",
    "- Bonus: Use comments in your code to explain what each step does.\n",
    "- Run all cells and ensure no errors.\n",
    "- Export your notebook as PDF or HTML for submission.\n",
    "- Share any insights or challenges you faced in the comments.\n",
    "\n",
    "**Setup Code** (Run this first):"
   ]
  },
  {
   "cell_type": "code",
   "execution_count": null,
   "metadata": {},
   "outputs": [],
   "source": [
    "import pandas as pd\n",
    "import numpy as np\n",
    "\n",
    "# Load the datasets\n",
    "bios = pd.read_csv('bios.csv')\n",
    "coffee = pd.read_csv('coffee.csv')"
   ]
  },
  {
   "cell_type": "markdown",
   "metadata": {},
   "source": [
    "## Part 1: Basic Data Exploration (Using bios.csv)"
   ]
  },
  {
   "cell_type": "markdown",
   "metadata": {},
   "source": [
    "**1. Display the first 10 rows** of the `bios` DataFrame using `head()`. Then, display the last 5 rows using `tail()`."
   ]
  },
  {
   "cell_type": "code",
   "execution_count": null,
   "metadata": {},
   "outputs": [],
   "source": [
    "# Your code here\n"
   ]
  },
  {
   "cell_type": "markdown",
   "metadata": {},
   "source": [
    "**2. Get dataset info**: Use `info()` to show the structure of `bios`. How many rows and columns are there? What are the data types? (Answer in a comment.)"
   ]
  },
  {
   "cell_type": "code",
   "execution_count": null,
   "metadata": {},
   "outputs": [],
   "source": [
    "# Your code here\n"
   ]
  },
  {
   "cell_type": "markdown",
   "metadata": {},
   "source": [
    "**3. Summary statistics**: Use `describe()` on the numerical columns (e.g., height_cm, weight_kg). What is the average height of the athletes? (Answer in a comment.)"
   ]
  },
  {
   "cell_type": "code",
   "execution_count": null,
   "metadata": {},
   "outputs": [],
   "source": [
    "# Your code here\n"
   ]
  },
  {
   "cell_type": "markdown",
   "metadata": {},
   "source": [
    "**4. Columns and Index**: Print the list of columns in `bios`. Convert the index to a list and print the first 5 index values."
   ]
  },
  {
   "cell_type": "code",
   "execution_count": null,
   "metadata": {},
   "outputs": [],
   "source": [
    "# Your code here\n"
   ]
  },
  {
   "cell_type": "markdown",
   "metadata": {},
   "source": [
    "## Part 2: Filtering and Sorting (Using bios.csv)"
   ]
  },
  {
   "cell_type": "markdown",
   "metadata": {},
   "source": [
    "**5. Filter rows**: Create a new DataFrame containing only athletes from France (NOC == 'FRA'). How many such athletes are there? (Use `value_counts()` on the 'NOC' column to verify.)"
   ]
  },
  {
   "cell_type": "code",
   "execution_count": null,
   "metadata": {},
   "outputs": [],
   "source": [
    "# Your code here\n"
   ]
  },
  {
   "cell_type": "markdown",
   "metadata": {},
   "source": [
    "**6. Multiple conditions**: Filter for athletes who are taller than 180 cm and weigh more than 80 kg. Sort this filtered DataFrame by `height_cm` in descending order. Display the top 5."
   ]
  },
  {
   "cell_type": "code",
   "execution_count": null,
   "metadata": {},
   "outputs": [],
   "source": [
    "# Your code here\n"
   ]
  },
  {
   "cell_type": "markdown",
   "metadata": {},
   "source": [
    "**7. Access specific data**: Using `loc`, select the 'name', 'height_cm', and 'weight_kg' for athletes with `athlete_id` between 10 and 20 (inclusive). Then, using `iloc`, select the first 5 rows and first 3 columns of the original `bios`."
   ]
  },
  {
   "cell_type": "code",
   "execution_count": null,
   "metadata": {},
   "outputs": [],
   "source": [
    "# Your code here\n"
   ]
  },
  {
   "cell_type": "markdown",
   "metadata": {},
   "source": [
    "## Part 3: Adding Columns and Applying Functions (Using bios.csv)"
   ]
  },
  {
   "cell_type": "markdown",
   "metadata": {},
   "source": [
    "**8. Handle dates**: Convert the 'born_date' column to datetime format. Add a new column 'born_year' by extracting the year from 'born_date' (use `.dt.year`)."
   ]
  },
  {
   "cell_type": "code",
   "execution_count": null,
   "metadata": {},
   "outputs": [],
   "source": [
    "# Your code here\n"
   ]
  },
  {
   "cell_type": "markdown",
   "metadata": {},
   "source": [
    "**9. Clean data**: Some heights might have 'cm' appended (check the data). If present, remove 'cm' from 'height_cm' and convert it to float. Fill any missing values in 'height_cm' and 'weight_kg' with the column mean."
   ]
  },
  {
   "cell_type": "code",
   "execution_count": null,
   "metadata": {},
   "outputs": [],
   "source": [
    "# Your code here\n"
   ]
  },
  {
   "cell_type": "markdown",
   "metadata": {},
   "source": [
    "**10. Lambda function**: Add a column 'height_category' using a lambda function:\n",
    "- 'Short' if height_cm < 170\n",
    "- 'Average' if 170 <= height_cm <= 180\n",
    "- 'Tall' if height_cm > 180\n",
    "- 'Unknown' if NaN\n",
    "Display the value counts for this new column."
   ]
  },
  {
   "cell_type": "code",
   "execution_count": null,
   "metadata": {},
   "outputs": [],
   "source": [
    "# Your code here\n"
   ]
  },
  {
   "cell_type": "markdown",
   "metadata": {},
   "source": [
    "**11. Custom def function**: Define a function `bmi_category` that takes a row and returns:\n",
    "- 'Underweight' if weight_kg / (height_cm/100)^2 < 18.5\n",
    "- 'Normal' if 18.5 <= BMI < 25\n",
    "- 'Overweight' if BMI >= 25\n",
    "- 'Invalid' if height or weight is NaN\n",
    "Apply this function to each row (use `apply` with axis=1) and add a 'bmi_category' column. Display the first 10 rows of 'name', 'height_cm', 'weight_kg', and 'bmi_category'."
   ]
  },
  {
   "cell_type": "code",
   "execution_count": null,
   "metadata": {},
   "outputs": [],
   "source": [
    "# Your code here\n"
   ]
  },
  {
   "cell_type": "markdown",
   "metadata": {},
   "source": [
    "## Part 4: Grouping and Aggregating (Using bios.csv and coffee.csv)"
   ]
  },
  {
   "cell_type": "markdown",
   "metadata": {},
   "source": [
    "**12. Group by NOC**: Group `bios` by 'NOC' and calculate the mean `height_cm` and median `weight_kg` for each country. Sort by mean height descending and display the top 10 countries."
   ]
  },
  {
   "cell_type": "code",
   "execution_count": null,
   "metadata": {},
   "outputs": [],
   "source": [
    "# Your code here\n"
   ]
  },
  {
   "cell_type": "markdown",
   "metadata": {},
   "source": [
    "**13. Aggregate sales**: Using `coffee`, group by 'Day' and calculate the total 'Units Sold'. Which day had the highest sales? (Answer in a comment.)"
   ]
  },
  {
   "cell_type": "code",
   "execution_count": null,
   "metadata": {},
   "outputs": [],
   "source": [
    "# Your code here\n"
   ]
  },
  {
   "cell_type": "markdown",
   "metadata": {},
   "source": [
    "**14. Pivot table (Bonus)**: Create a pivot table from `coffee` with 'Day' as index, 'Coffee Type' as columns, and sum of 'Units Sold' as values."
   ]
  },
  {
   "cell_type": "code",
   "execution_count": null,
   "metadata": {},
   "outputs": [],
   "source": [
    "# Your code here\n"
   ]
  },
  {
   "cell_type": "markdown",
   "metadata": {},
   "source": [
    "## Part 5: Merging DataFrames (Using both CSVs)"
   ]
  },
  {
   "cell_type": "markdown",
   "metadata": {},
   "source": [
    "**15. Simulate a merge**: Create a small `results` DataFrame as shown below. Merge it with `bios` on 'athlete_id' using an inner join. Display the merged DataFrame.\n",
    "\n",
    "```python\n",
    "results_data = {\n",
    "    'athlete_id': [1, 2, 3, 4, 5],\n",
    "    'medal': ['Gold', 'Silver', None, 'Bronze', 'Gold'],\n",
    "    'event': ['Tennis Singles', 'Tennis Doubles', 'Tennis Singles', 'Tennis Doubles', 'Fencing']\n",
    "}\n",
    "results = pd.DataFrame(results_data)\n",
    "```"
   ]
  },
  {
   "cell_type": "code",
   "execution_count": null,
   "metadata": {},
   "outputs": [],
   "source": [
    "# Your code here\n"
   ]
  },
  {
   "cell_type": "markdown",
   "metadata": {},
   "source": [
    "**16. Coffee enhancements**: Add a new column to `coffee` called 'Price' using a lambda: 3.5 if 'Espresso', 4.5 if 'Latte'. Then, add a 'Revenue' column (Units Sold * Price). Group by 'Coffee Type' and sum the 'Revenue'."
   ]
  },
  {
   "cell_type": "code",
   "execution_count": null,
   "metadata": {},
   "outputs": [],
   "source": [
    "# Your code here\n"
   ]
  },
  {
   "cell_type": "markdown",
   "metadata": {},
   "source": [
    "## Bonus (Optional)\n",
    "Try plotting a histogram of athlete heights using `bios['height_cm'].hist()`. Add appropriate labels and title."
   ]
  },
  {
   "cell_type": "code",
   "execution_count": null,
   "metadata": {},
   "outputs": [],
   "source": [
    "# Your code here\n"
   ]
  },
  {
   "cell_type": "markdown",
   "metadata": {},
   "source": [
    "## Submission\n",
    "- Run all cells and ensure no errors.\n",
    "- Export your notebook as PDF or HTML.\n",
    "- Share any insights or challenges you faced in a comment below."
   ]
  },
  {
   "cell_type": "code",
   "execution_count": null,
   "metadata": {},
   "outputs": [],
   "source": [
    "# Your comments here\n"
   ]
  }
 ],
 "metadata": {
  "kernelspec": {
   "display_name": "Python 3 (ipykernel)",
   "language": "python",
   "name": "python3"
  },
  "language_info": {
   "codemirror_mode": {
    "name": "ipython",
    "version": 3
   },
   "file_extension": ".py",
   "mimetype": "text/x-python",
   "name": "python",
   "nbconvert_exporter": "python",
   "pygments_lexer": "ipython3",
   "version": "3.12.7"
  }
 },
 "nbformat": 4,
 "nbformat_minor": 5
}