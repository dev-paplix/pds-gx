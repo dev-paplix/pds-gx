{
 "cells": [
  {
   "cell_type": "markdown",
   "id": "5c25acfd",
   "metadata": {},
   "source": [
    "# Car Price Prediction Exercise - Student Template\n",
    "\n",
    "Complete this notebook by following the exercise instructions. Fill in the code cells and answer the questions.\n",
    "\n",
    "**Student Name:** _______________  \n",
    "**Date:** _______________"
   ]
  },
  {
   "cell_type": "markdown",
   "id": "4d2b5672",
   "metadata": {},
   "source": [
    "## Exercise 1: Data Loading and Exploration"
   ]
  },
  {
   "cell_type": "code",
   "execution_count": null,
   "id": "828c3c79",
   "metadata": {},
   "outputs": [],
   "source": [
    "# Task 1.1: Import required libraries\n",
    "# TODO: Import TensorFlow, pandas, numpy, seaborn, matplotlib, and keras layers\n"
   ]
  },
  {
   "cell_type": "code",
   "execution_count": null,
   "id": "b52ad1e6",
   "metadata": {},
   "outputs": [],
   "source": [
    "# Task 1.1: Load the dataset\n",
    "# TODO: Load the secondhand_car.csv file and display basic information\n",
    "\n",
    "filepath = \"./data/secondhand_car.csv\"\n",
    "# Your code here\n"
   ]
  },
  {
   "cell_type": "code",
   "execution_count": null,
   "id": "73d00dcd",
   "metadata": {},
   "outputs": [],
   "source": [
    "# Task 1.1: Display first 5 rows and check shape\n",
    "# Your code here\n"
   ]
  },
  {
   "cell_type": "markdown",
   "id": "19bde7da",
   "metadata": {},
   "source": [
    "**Question 1.1:** What is the target variable we're trying to predict?  \n",
    "**Answer:** _______________\n",
    "\n",
    "**Question 1.2:** List the feature columns that will be used for prediction:  \n",
    "**Answer:** _______________"
   ]
  },
  {
   "cell_type": "code",
   "execution_count": null,
   "id": "e20d353a",
   "metadata": {},
   "outputs": [],
   "source": [
    "# Task 1.2: Create pairplot visualization\n",
    "# TODO: Create pairplot for the specified columns\n",
    "\n",
    "columns_to_plot = ['years', 'km', 'rating', 'condition', 'economy', 'top speed', 'hp', 'torque', 'current price']\n",
    "# Your code here\n"
   ]
  },
  {
   "cell_type": "markdown",
   "id": "ab9dc812",
   "metadata": {},
   "source": [
    "**Question 1.3:** What patterns do you observe? Which features seem most correlated with price?  \n",
    "**Answer:** _______________"
   ]
  },
  {
   "cell_type": "markdown",
   "id": "69563165",
   "metadata": {},
   "source": [
    "## Exercise 2: Data Preprocessing"
   ]
  },
  {
   "cell_type": "code",
   "execution_count": null,
   "id": "ff490b73",
   "metadata": {},
   "outputs": [],
   "source": [
    "# Task 2.1: Data shuffling and feature selection\n",
    "# TODO: Shuffle the data and separate features (X) and target (y)\n",
    "\n",
    "# Your code here\n"
   ]
  },
  {
   "cell_type": "code",
   "execution_count": null,
   "id": "1cc61426",
   "metadata": {},
   "outputs": [],
   "source": [
    "# Task 2.1: Print shapes to verify\n",
    "# Your code here\n"
   ]
  },
  {
   "cell_type": "code",
   "execution_count": null,
   "id": "3fa9a1f9",
   "metadata": {},
   "outputs": [],
   "source": [
    "# Task 2.2: Define split ratios\n",
    "TRAIN_RATIO = 0.8\n",
    "VAL_RATIO = 0.1\n",
    "TEST_RATIO = 0.1\n",
    "\n",
    "# TODO: Calculate dataset size and split the data\n",
    "DATASET_SIZE = # Your code here\n",
    "\n",
    "# Your code for train split here\n"
   ]
  },
  {
   "cell_type": "code",
   "execution_count": null,
   "id": "ab4335ef",
   "metadata": {},
   "outputs": [],
   "source": [
    "# Task 2.2: Validation split\n",
    "# Your code here\n"
   ]
  },
  {
   "cell_type": "code",
   "execution_count": null,
   "id": "158bd438",
   "metadata": {},
   "outputs": [],
   "source": [
    "# Task 2.2: Test split\n",
    "# Your code here\n"
   ]
  },
  {
   "cell_type": "code",
   "execution_count": null,
   "id": "132f64fc",
   "metadata": {},
   "outputs": [],
   "source": [
    "# Verify all split shapes\n",
    "# Your code here\n"
   ]
  },
  {
   "cell_type": "markdown",
   "id": "a0da789e",
   "metadata": {},
   "source": [
    "## Exercise 3: Dataset Creation and Preprocessing"
   ]
  },
  {
   "cell_type": "code",
   "execution_count": null,
   "id": "2811bf0e",
   "metadata": {},
   "outputs": [],
   "source": [
    "# Task 3.1: Set buffer and batch sizes\n",
    "BUFFER_SIZE = 16\n",
    "BATCH_SIZE = 32  # Different from original\n",
    "\n",
    "# TODO: Create TensorFlow datasets for train, validation, and test\n",
    "# Your code here\n"
   ]
  },
  {
   "cell_type": "code",
   "execution_count": null,
   "id": "4feff856",
   "metadata": {},
   "outputs": [],
   "source": [
    "# Task 3.1: Verify batch shapes\n",
    "# Your code here\n"
   ]
  },
  {
   "cell_type": "code",
   "execution_count": null,
   "id": "be6cbbef",
   "metadata": {},
   "outputs": [],
   "source": [
    "# Task 3.2: Create and adapt normalization layer\n",
    "# TODO: Create normalizer and adapt to training data\n",
    "\n",
    "# Your code here\n"
   ]
  },
  {
   "cell_type": "code",
   "execution_count": null,
   "id": "f8aa5819",
   "metadata": {},
   "outputs": [],
   "source": [
    "# Task 3.2: Show first 5 normalized samples\n",
    "# Your code here\n"
   ]
  },
  {
   "cell_type": "markdown",
   "id": "86f22720",
   "metadata": {},
   "source": [
    "**Question 3.1:** Why is normalization important for neural networks?  \n",
    "**Answer:** _______________"
   ]
  },
  {
   "cell_type": "markdown",
   "id": "639dff52",
   "metadata": {},
   "source": [
    "## Exercise 4: Model Architecture Design"
   ]
  },
  {
   "cell_type": "code",
   "execution_count": null,
   "id": "359108d1",
   "metadata": {},
   "outputs": [],
   "source": [
    "# Task 4.1: Build your neural network model\n",
    "# TODO: Create sequential model with specified architecture\n",
    "\n",
    "model = # Your code here\n"
   ]
  },
  {
   "cell_type": "code",
   "execution_count": null,
   "id": "69408e88",
   "metadata": {},
   "outputs": [],
   "source": [
    "# Task 4.2: Display model summary\n",
    "# Your code here\n"
   ]
  },
  {
   "cell_type": "code",
   "execution_count": null,
   "id": "9ef43b9b",
   "metadata": {},
   "outputs": [],
   "source": [
    "# Task 4.2: Create model visualization\n",
    "# TODO: Plot and save model architecture\n",
    "\n",
    "# Your code here\n"
   ]
  },
  {
   "cell_type": "markdown",
   "id": "5502f486",
   "metadata": {},
   "source": [
    "**Question 4.1:** How many total parameters does your model have?  \n",
    "**Answer:** _______________"
   ]
  },
  {
   "cell_type": "markdown",
   "id": "fa317b28",
   "metadata": {},
   "source": [
    "## Exercise 5: Model Compilation and Training"
   ]
  },
  {
   "cell_type": "code",
   "execution_count": null,
   "id": "d0180f59",
   "metadata": {},
   "outputs": [],
   "source": [
    "# Task 5.1: Compile the model\n",
    "# TODO: Use Adam optimizer (lr=0.01), MSE loss, RMSE metric\n",
    "\n",
    "# Your code here\n"
   ]
  },
  {
   "cell_type": "markdown",
   "id": "58c67399",
   "metadata": {},
   "source": [
    "**Question 5.1:** Why did you choose MSE over MAE for this problem?  \n",
    "**Answer:** _______________"
   ]
  },
  {
   "cell_type": "code",
   "execution_count": null,
   "id": "b94894fb",
   "metadata": {},
   "outputs": [],
   "source": [
    "# Task 5.2: Train the model\n",
    "# TODO: Train for 50 epochs with train and validation data\n",
    "\n",
    "history = # Your code here\n"
   ]
  },
  {
   "cell_type": "markdown",
   "id": "c4ef4731",
   "metadata": {},
   "source": [
    "## Exercise 6: Model Evaluation and Analysis"
   ]
  },
  {
   "cell_type": "code",
   "execution_count": null,
   "id": "af9dd3ed",
   "metadata": {},
   "outputs": [],
   "source": [
    "# Task 6.1: Plot training history - Loss\n",
    "# TODO: Create loss plot with proper labels and legend\n",
    "\n",
    "# Your code here\n"
   ]
  },
  {
   "cell_type": "code",
   "execution_count": null,
   "id": "5a825673",
   "metadata": {},
   "outputs": [],
   "source": [
    "# Task 6.1: Plot training history - RMSE\n",
    "# TODO: Create RMSE plot with proper labels and legend\n",
    "\n",
    "# Your code here\n"
   ]
  },
  {
   "cell_type": "markdown",
   "id": "d661ff8a",
   "metadata": {},
   "source": [
    "**Question 6.1:** Is your model overfitting or underfitting? Explain your reasoning.  \n",
    "**Answer:** _______________"
   ]
  },
  {
   "cell_type": "code",
   "execution_count": null,
   "id": "08134ee0",
   "metadata": {},
   "outputs": [],
   "source": [
    "# Task 6.2: Evaluate model on test data\n",
    "# Your code here\n"
   ]
  },
  {
   "cell_type": "markdown",
   "id": "62bb3036",
   "metadata": {},
   "source": [
    "**Question 6.2:** How do your test metrics compare to training metrics?  \n",
    "**Answer:** _______________"
   ]
  },
  {
   "cell_type": "markdown",
   "id": "2d37dd61",
   "metadata": {},
   "source": [
    "## Exercise 7: Predictions and Results Visualization"
   ]
  },
  {
   "cell_type": "code",
   "execution_count": null,
   "id": "0d47da8d",
   "metadata": {},
   "outputs": [],
   "source": [
    "# Task 7.1: Generate predictions\n",
    "# TODO: Make predictions and extract actual vs predicted values\n",
    "\n",
    "# Your code here\n"
   ]
  },
  {
   "cell_type": "code",
   "execution_count": null,
   "id": "b830499f",
   "metadata": {},
   "outputs": [],
   "source": [
    "# Task 7.1: Show first 10 actual vs predicted values\n",
    "# Your code here\n"
   ]
  },
  {
   "cell_type": "code",
   "execution_count": null,
   "id": "b65301b2",
   "metadata": {},
   "outputs": [],
   "source": [
    "# Task 7.1: Calculate mean absolute error manually\n",
    "# Your code here\n"
   ]
  },
  {
   "cell_type": "code",
   "execution_count": null,
   "id": "e9d04a1c",
   "metadata": {},
   "outputs": [],
   "source": [
    "# Task 7.2: Create scatter plot (actual vs predicted)\n",
    "# TODO: Include diagonal line for perfect prediction\n",
    "\n",
    "# Your code here\n"
   ]
  },
  {
   "cell_type": "code",
   "execution_count": null,
   "id": "024014e2",
   "metadata": {},
   "outputs": [],
   "source": [
    "# Task 7.2: Create bar chart for first 20 predictions\n",
    "# TODO: Side-by-side bars with different colors\n",
    "\n",
    "# Your code here\n"
   ]
  },
  {
   "cell_type": "markdown",
   "id": "9181afc9",
   "metadata": {},
   "source": [
    "## Exercise 8: Model Improvement (Bonus)"
   ]
  },
  {
   "cell_type": "code",
   "execution_count": null,
   "id": "3bdcb0ba",
   "metadata": {},
   "outputs": [],
   "source": [
    "# Task 8.1: Experiment with different hyperparameters\n",
    "# TODO: Try different configurations and compare results\n",
    "\n",
    "# Your experimentation code here\n"
   ]
  },
  {
   "cell_type": "code",
   "execution_count": null,
   "id": "e348cc85",
   "metadata": {},
   "outputs": [],
   "source": [
    "# Task 8.2: Try advanced techniques\n",
    "# TODO: Add dropout, different optimizers, early stopping, etc.\n",
    "\n",
    "# Your advanced techniques code here\n"
   ]
  },
  {
   "cell_type": "markdown",
   "id": "85829cdc",
   "metadata": {},
   "source": [
    "## Exercise 9: Business Insights"
   ]
  },
  {
   "cell_type": "markdown",
   "id": "cfcb2d13",
   "metadata": {},
   "source": [
    "**Question 9.1:** Which features do you think are most important for price prediction?  \n",
    "**Answer:** _______________\n",
    "\n",
    "**Question 9.2:** How could you test feature importance in this neural network?  \n",
    "**Answer:** _______________\n",
    "\n",
    "**Question 9.3:** What business insights can you derive from your model?  \n",
    "**Answer:** _______________"
   ]
  },
  {
   "cell_type": "markdown",
   "id": "b2308ff1",
   "metadata": {},
   "source": [
    "**Question 9.4:** What are the limitations of your current model?  \n",
    "**Answer:** _______________\n",
    "\n",
    "**Question 9.5:** How could you improve the model performance?  \n",
    "**Answer:** _______________\n",
    "\n",
    "**Question 9.6:** What additional features might be helpful?  \n",
    "**Answer:** _______________\n",
    "\n",
    "**Question 9.7:** How would you deploy this model in a real-world application?  \n",
    "**Answer:** _______________"
   ]
  },
  {
   "cell_type": "markdown",
   "id": "09d63fa2",
   "metadata": {},
   "source": [
    "## Summary and Reflection\n",
    "\n",
    "**What did you learn from this exercise?**  \n",
    "_______________\n",
    "\n",
    "**What was the most challenging part?**  \n",
    "_______________\n",
    "\n",
    "**What would you do differently next time?**  \n",
    "_______________"
   ]
  },
  {
   "cell_type": "code",
   "execution_count": null,
   "id": "434c0def",
   "metadata": {},
   "outputs": [],
   "source": [
    "# Final model summary and key metrics\n",
    "print(\"=== FINAL MODEL SUMMARY ===\")\n",
    "print(f\"Model Architecture: {model.name}\")\n",
    "print(f\"Total Parameters: {model.count_params()}\")\n",
    "# Add your final performance metrics here\n"
   ]
  }
 ],
 "metadata": {
  "language_info": {
   "name": "python"
  }
 },
 "nbformat": 4,
 "nbformat_minor": 5
}
