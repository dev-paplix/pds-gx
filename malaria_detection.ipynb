{
 "cells": [
  {
   "cell_type": "markdown",
   "id": "118608e2-d3fe-4ce0-a864-83c810910b7e",
   "metadata": {},
   "source": [
    "## Lesson 16\n",
    "# Combination of Scikit Learn and Tensorflow/Keras"
   ]
  },
  {
   "cell_type": "code",
   "execution_count": 4,
   "id": "07b44f82-25b4-4bde-8b93-c41eafa4b5c1",
   "metadata": {},
   "outputs": [],
   "source": [
    "# Import Libraries\n",
    "\n",
    "import numpy as np\n",
    "import pandas as pd\n",
    "import matplotlib.pyplot as plt\n",
    "import seaborn as sns\n",
    "import tensorflow as tf\n",
    "import sklearn, datetime, io, os, random, cv2\n",
    "from sklearn.metrics import confusion_matrix, roc_curve\n",
    "\n",
    "## Just for using in colap\n",
    "# from google.colab import files, drive\n",
    "\n",
    "from PIL import Image\n",
    "import albumentations as A\n",
    "import tensorflow_datasets as tfds\n",
    "import tensorflow_probability as tfp\n",
    "from tensorflow.keras.models import Model\n",
    "from tensorflow.keras.layers import Layer, Conv2D, MaxPool2D, Dense, Flatten, InputLayer,\\\n",
    "    BatchNormalization, Input, Dropout, RandomFlip, RandomContrast, RandomRotation, Resizing, Rescaling\n",
    "from tensorflow.keras.optimizers import Adam\n",
    "from tensorflow.keras.callbacks import Callback, CSVLogger, EarlyStopping, \\\n",
    "    LearningRateScheduler, ModelCheckpoint, ReduceLROnPlateau\n",
    "from tensorboard.plugins.hparams import api as hp"
   ]
  },
  {
   "cell_type": "code",
   "execution_count": null,
   "id": "0ad17680-5ac6-4326-b6e3-b808a7264710",
   "metadata": {},
   "outputs": [],
   "source": []
  }
 ],
 "metadata": {
  "kernelspec": {
   "display_name": "Python 3 (ipykernel)",
   "language": "python",
   "name": "python3"
  },
  "language_info": {
   "codemirror_mode": {
    "name": "ipython",
    "version": 3
   },
   "file_extension": ".py",
   "mimetype": "text/x-python",
   "name": "python",
   "nbconvert_exporter": "python",
   "pygments_lexer": "ipython3",
   "version": "3.12.7"
  }
 },
 "nbformat": 4,
 "nbformat_minor": 5
}
