{
 "cells": [
  {
   "cell_type": "markdown",
   "id": "c24e16d2-a5a0-42e2-a934-720693ca326b",
   "metadata": {},
   "source": [
    "## Lesson 2\n",
    "# Numpy"
   ]
  },
  {
   "cell_type": "code",
   "execution_count": 1,
   "id": "d327e96d-7c3c-48ba-a900-56d08171b0aa",
   "metadata": {},
   "outputs": [],
   "source": [
    "# import libraries\n",
    "import numpy as np"
   ]
  },
  {
   "cell_type": "code",
   "execution_count": 5,
   "id": "54b4f7a5-c4bc-451a-88a6-1923977c7b91",
   "metadata": {},
   "outputs": [
    {
     "name": "stdout",
     "output_type": "stream",
     "text": [
      "[1 2 3]\n"
     ]
    }
   ],
   "source": [
    "# Numpy Basic Array\n",
    "\n",
    "a = np.array([1,2,3])\n",
    "print(a)"
   ]
  },
  {
   "cell_type": "code",
   "execution_count": 6,
   "id": "b1464b4d-6383-441d-97d7-3d24f16c1414",
   "metadata": {},
   "outputs": [
    {
     "data": {
      "text/plain": [
       "dtype('int64')"
      ]
     },
     "execution_count": 6,
     "metadata": {},
     "output_type": "execute_result"
    }
   ],
   "source": [
    "# DataType in Numpy\n",
    "\n",
    "a.dtype"
   ]
  },
  {
   "cell_type": "code",
   "execution_count": 7,
   "id": "a01436df-e7cb-404c-aa81-11ec2d05b07d",
   "metadata": {},
   "outputs": [
    {
     "name": "stdout",
     "output_type": "stream",
     "text": [
      "[1 2 3]\n"
     ]
    },
    {
     "data": {
      "text/plain": [
       "dtype('int16')"
      ]
     },
     "execution_count": 7,
     "metadata": {},
     "output_type": "execute_result"
    }
   ],
   "source": [
    "# Assigning the DataType in Numpy\n",
    "\n",
    "a = np.array([1,2,3], dtype='int16')\n",
    "print(a)\n",
    "a.dtype"
   ]
  },
  {
   "cell_type": "code",
   "execution_count": 17,
   "id": "12c689db-04b8-4d54-8f35-298063727668",
   "metadata": {},
   "outputs": [
    {
     "name": "stdout",
     "output_type": "stream",
     "text": [
      "[[9 8 7]\n",
      " [6 5 4]]\n",
      "===================================\n",
      "int16\n",
      "===================================\n",
      "2\n",
      "===================================\n",
      "(2, 3)\n",
      "===================================\n",
      "2\n"
     ]
    }
   ],
   "source": [
    "# Convert float into integer and also have 2D array\n",
    "\n",
    "b = np.array([[9.0, 8.5, 7.0] , [6.0, 5.0, 4.0]], dtype='int16')\n",
    "print(b)\n",
    "print(\"===================================\")\n",
    "print(b.dtype)\n",
    "print(\"===================================\")\n",
    "print(b.ndim)\n",
    "print(\"===================================\")\n",
    "print(b.shape)\n",
    "print(\"===================================\")\n",
    "print(b.itemsize)"
   ]
  },
  {
   "cell_type": "code",
   "execution_count": 22,
   "id": "e21d532f-c582-4a24-ad58-9dd05ce8c269",
   "metadata": {},
   "outputs": [
    {
     "name": "stdout",
     "output_type": "stream",
     "text": [
      "[[[1 2]\n",
      "  [3 4]]\n",
      "\n",
      " [[5 6]\n",
      "  [7 8]]]\n"
     ]
    }
   ],
   "source": [
    "b = np.array([[[1,2],[3,4]],[[5,6],[7,8]]], dtype='int16')\n",
    "print(b)"
   ]
  },
  {
   "cell_type": "code",
   "execution_count": 23,
   "id": "85cf1bec-b71e-430d-b7dd-d87b2666c120",
   "metadata": {},
   "outputs": [
    {
     "data": {
      "text/plain": [
       "np.int16(4)"
      ]
     },
     "execution_count": 23,
     "metadata": {},
     "output_type": "execute_result"
    }
   ],
   "source": [
    "b[0,1,1]"
   ]
  },
  {
   "cell_type": "code",
   "execution_count": 26,
   "id": "078d25ee-f5ed-4e65-b85a-b1f2b6fc5e1a",
   "metadata": {},
   "outputs": [
    {
     "name": "stdout",
     "output_type": "stream",
     "text": [
      "[[[ 1  2]\n",
      "  [ 9  9]]\n",
      "\n",
      " [[ 5  6]\n",
      "  [10 10]]]\n"
     ]
    }
   ],
   "source": [
    "# Replace multiple numbers\n",
    "b[:,1,:]=[[9,9],[10,10]]\n",
    "print(b)"
   ]
  },
  {
   "cell_type": "code",
   "execution_count": 31,
   "id": "7884cfd2-153e-4e23-af72-5fa573475397",
   "metadata": {},
   "outputs": [
    {
     "name": "stdout",
     "output_type": "stream",
     "text": [
      "[[0 0 0]\n",
      " [0 0 0]] int16\n"
     ]
    }
   ],
   "source": [
    "# Making 3D array of 2*3 all with number 0\n",
    "\n",
    "c = np.zeros((2,3), dtype='int16')\n",
    "print(c, c.dtype)\n"
   ]
  },
  {
   "cell_type": "code",
   "execution_count": 32,
   "id": "e82c7dda-98f0-4045-8e0a-087374a3e7c3",
   "metadata": {},
   "outputs": [
    {
     "name": "stdout",
     "output_type": "stream",
     "text": [
      "[[1 1 1]\n",
      " [1 1 1]] int16\n"
     ]
    }
   ],
   "source": [
    "# Making 3D array of 2*3 all with number 1 \n",
    "\n",
    "c = np.ones((2,3), dtype='int16')\n",
    "print(c, c.dtype)"
   ]
  },
  {
   "cell_type": "code",
   "execution_count": 34,
   "id": "0ec50321-c89d-41f1-80e7-c898c4377bf1",
   "metadata": {},
   "outputs": [
    {
     "name": "stdout",
     "output_type": "stream",
     "text": [
      "[[55 55 55]\n",
      " [55 55 55]] int16\n"
     ]
    }
   ],
   "source": [
    "c = np.full((2,3), 55, dtype='int16')\n",
    "print(c, c.dtype)"
   ]
  },
  {
   "cell_type": "code",
   "execution_count": 35,
   "id": "cfde14f1-8546-4a6c-8132-7b4bc3498d23",
   "metadata": {},
   "outputs": [
    {
     "name": "stdout",
     "output_type": "stream",
     "text": [
      "[[[16 16]\n",
      "  [16 16]]\n",
      "\n",
      " [[16 16]\n",
      "  [16 16]]]\n"
     ]
    }
   ],
   "source": [
    "c = np.full(b.shape, 16, dtype='int16')\n",
    "print(c)"
   ]
  },
  {
   "cell_type": "code",
   "execution_count": 39,
   "id": "44d6fdd9-9c26-4c9a-8c5f-4e3f6502cca4",
   "metadata": {},
   "outputs": [
    {
     "name": "stdout",
     "output_type": "stream",
     "text": [
      "[[0.60042923 0.82148804]\n",
      " [0.40723114 0.42191709]\n",
      " [0.92940314 0.64745146]\n",
      " [0.07889914 0.6297907 ]]\n"
     ]
    }
   ],
   "source": [
    "# Creating a random numbers\n",
    "\n",
    "c = np.random.rand(4,2)\n",
    "print(c)"
   ]
  },
  {
   "cell_type": "code",
   "execution_count": 43,
   "id": "c36d03a5-aadd-4f4d-969c-08ac2a7c0251",
   "metadata": {},
   "outputs": [
    {
     "data": {
      "text/plain": [
       "array([[[625532, -50845],\n",
       "        [787609,  52262]],\n",
       "\n",
       "       [[106263, 882361],\n",
       "        [129414, 464489]]], dtype=int32)"
      ]
     },
     "execution_count": 43,
     "metadata": {},
     "output_type": "execute_result"
    }
   ],
   "source": [
    "# Creating a random numbers in a range and just int\n",
    "\n",
    "np.random.randint(-100000,999999, size=(b.shape))"
   ]
  },
  {
   "cell_type": "code",
   "execution_count": 44,
   "id": "10c5fa8c-f8e9-473c-b369-4d6d137ea833",
   "metadata": {},
   "outputs": [
    {
     "data": {
      "text/plain": [
       "array([[1., 0., 0., 0., 0.],\n",
       "       [0., 1., 0., 0., 0.],\n",
       "       [0., 0., 1., 0., 0.],\n",
       "       [0., 0., 0., 1., 0.],\n",
       "       [0., 0., 0., 0., 1.]])"
      ]
     },
     "execution_count": 44,
     "metadata": {},
     "output_type": "execute_result"
    }
   ],
   "source": [
    "np.identity(5)"
   ]
  },
  {
   "cell_type": "code",
   "execution_count": 46,
   "id": "148fc10b-2710-4fb3-a64c-eb6dc294411e",
   "metadata": {},
   "outputs": [
    {
     "name": "stdout",
     "output_type": "stream",
     "text": [
      "[[1 2 3]]\n",
      "===================================\n",
      "[[1 2 3]\n",
      " [1 2 3]\n",
      " [1 2 3]]\n"
     ]
    }
   ],
   "source": [
    "# Repeating array\n",
    "\n",
    "arr = np.array([[1,2,3]])\n",
    "print(arr)\n",
    "\n",
    "print(\"===================================\")\n",
    "\n",
    "r1 = np.repeat(arr, 3, axis=0)\n",
    "print(r1)"
   ]
  },
  {
   "cell_type": "code",
   "execution_count": 48,
   "id": "b3f30e63-1af5-48a2-8749-4c74c5569608",
   "metadata": {},
   "outputs": [
    {
     "name": "stdout",
     "output_type": "stream",
     "text": [
      "[[0 0 0]\n",
      " [0 0 0]\n",
      " [0 0 0]]\n",
      "===================================\n",
      "[[0 0 0]\n",
      " [0 9 0]\n",
      " [0 0 0]]\n"
     ]
    }
   ],
   "source": [
    "# Substituting single number in an array\n",
    "\n",
    "z = np.zeros((3,3), dtype='int16')\n",
    "print(z)\n",
    "\n",
    "print(\"===================================\")\n",
    "z[1,1] = 9\n",
    "print(z)"
   ]
  },
  {
   "cell_type": "code",
   "execution_count": 51,
   "id": "3fd8e189-a72a-48f6-84b9-f25698fc534c",
   "metadata": {},
   "outputs": [
    {
     "name": "stdout",
     "output_type": "stream",
     "text": [
      "[[1 1 1 1 1]\n",
      " [1 1 1 1 1]\n",
      " [1 1 1 1 1]\n",
      " [1 1 1 1 1]\n",
      " [1 1 1 1 1]]\n",
      "===================================\n",
      "[[1 1 1 1 1]\n",
      " [1 0 0 0 1]\n",
      " [1 0 9 0 1]\n",
      " [1 0 0 0 1]\n",
      " [1 1 1 1 1]]\n"
     ]
    }
   ],
   "source": [
    "# Array inside array\n",
    "out = np.ones((5,5), dtype='int16')\n",
    "print(out)\n",
    "\n",
    "print(\"===================================\")\n",
    "\n",
    "out[1:-1, 1:-1] = z\n",
    "print(out)"
   ]
  },
  {
   "cell_type": "code",
   "execution_count": null,
   "id": "9ca8c341-7657-4849-a145-49ff562d6bef",
   "metadata": {},
   "outputs": [],
   "source": []
  }
 ],
 "metadata": {
  "kernelspec": {
   "display_name": "Python 3 (ipykernel)",
   "language": "python",
   "name": "python3"
  },
  "language_info": {
   "codemirror_mode": {
    "name": "ipython",
    "version": 3
   },
   "file_extension": ".py",
   "mimetype": "text/x-python",
   "name": "python",
   "nbconvert_exporter": "python",
   "pygments_lexer": "ipython3",
   "version": "3.12.7"
  }
 },
 "nbformat": 4,
 "nbformat_minor": 5
}
